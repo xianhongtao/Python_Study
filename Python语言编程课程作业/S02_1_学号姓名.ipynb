{
 "cells": [
  {
   "cell_type": "markdown",
   "id": "7c20fb33",
   "metadata": {},
   "source": [
    "## $$实验2-1  Python语言基础练习$$"
   ]
  },
  {
   "cell_type": "markdown",
   "id": "0fc19976",
   "metadata": {},
   "source": [
    "交电子版，文档中的学号和姓名要填入，本文档文件名部分的\"学号姓名\"也要改为你的实际数据，前缀'S02_1'不要改。"
   ]
  },
  {
   "cell_type": "markdown",
   "id": "62eaa667",
   "metadata": {},
   "source": [
    "|<font size=4>实验地点:|<font size=4>机房|<font size=4>实验日期:|<font size=4>2024-9-23|<font size=4>学院:|<font size=4>数统学院|\n",
    "|:-|-|:-|-|:-|-|\n",
    "|<font size=4>学号:|<font size=4> xxx |<font size=4>姓名:|<font size=4> yyy  |<font size=4> 课时:  |<font size=4> 3  |\n"
   ]
  },
  {
   "cell_type": "markdown",
   "id": "d46cbb48",
   "metadata": {},
   "source": [
    "## 一、实验目的\n",
    "1. 了解基本数据类型和运算符。\n",
    "2. 掌握字符串格式化方法。\n",
    "3. 练习input和print语句。\n",
    "4. 了解math库。\n",
    "\n",
    "+ 实验环境：Python3.11 + Anaconda +Jupyter Notebook"
   ]
  },
  {
   "cell_type": "markdown",
   "id": "67b437b4",
   "metadata": {},
   "source": [
    "## 二、实验内容"
   ]
  },
  {
   "cell_type": "markdown",
   "id": "0ec8b8a5",
   "metadata": {},
   "source": [
    "### 1．创建整数、浮点数、复数、字符串和布尔类型的变量，并用type函数测试数据类型。"
   ]
  },
  {
   "cell_type": "code",
   "execution_count": null,
   "id": "29383273",
   "metadata": {
    "ExecuteTime": {
     "end_time": "2024-09-18T12:45:38.621357Z",
     "start_time": "2024-09-18T12:45:38.614225Z"
    }
   },
   "outputs": [],
   "source": [
    "int_value = 1\n",
    "float_value = 1.1\n",
    "complex_value = 1+1j\n",
    "str_value = \"Hello World\"\n",
    "boolean_value = True\n",
    "print(type(int_value),type(float_value),type(complex_value),type(str_value),type(boolean_value))"
   ]
  },
  {
   "cell_type": "markdown",
   "id": "de7eb56d",
   "metadata": {},
   "source": [
    "### 2．将pi值分别按0，2，4位小数输出，要求用format和f两种格式化方法。"
   ]
  },
  {
   "cell_type": "code",
   "execution_count": null,
   "id": "6f6887ba",
   "metadata": {},
   "outputs": [],
   "source": [
    "pi = 3.1415926"
   ]
  },
  {
   "cell_type": "code",
   "execution_count": null,
   "id": "df900e76",
   "metadata": {
    "ExecuteTime": {
     "end_time": "2025-09-07T04:09:08.576874Z",
     "start_time": "2025-09-07T04:09:08.573852Z"
    }
   },
   "outputs": [],
   "source": [
    "# 按format方法格式化\n",
    "print(\"{:.0f}\".format(pi))\n",
    "print(\"{:.2f}\".format(pi))\n",
    "print(\"{:.4f}\".format(pi))"
   ]
  },
  {
   "cell_type": "code",
   "execution_count": null,
   "id": "0d6d92a8",
   "metadata": {
    "ExecuteTime": {
     "end_time": "2025-09-07T04:09:09.214894Z",
     "start_time": "2025-09-07T04:09:09.211534Z"
    }
   },
   "outputs": [],
   "source": [
    "# 按f-string方法格式化\n",
    "print(f\"{pi:.0f}\")\n",
    "print(f\"{pi:.2f}\")\n",
    "print(f\"{pi:.4f}\")"
   ]
  },
  {
   "cell_type": "markdown",
   "id": "d8da1571",
   "metadata": {},
   "source": [
    "### 3．使用f格式化方法，把100分别按二、八、十六进制格式输出。"
   ]
  },
  {
   "cell_type": "code",
   "execution_count": null,
   "id": "988c1856",
   "metadata": {
    "ExecuteTime": {
     "end_time": "2025-09-07T04:11:20.420941Z",
     "start_time": "2025-09-07T04:11:20.417477Z"
    }
   },
   "outputs": [],
   "source": [
    "x = 100\n",
    "print(f\"{x:0b}\")\n",
    "print(f\"{x:0o}\")\n",
    "print(f\"{x:0x}\")"
   ]
  },
  {
   "cell_type": "markdown",
   "id": "efd0e6c9",
   "metadata": {},
   "source": [
    "### 4．Python的赋值语句比较灵活，练习下面的赋值语句。P258"
   ]
  },
  {
   "cell_type": "markdown",
   "id": "48aa2841",
   "metadata": {},
   "source": [
    "<font color='blue'>实验报告中未给出具体数据和要求的题目，请输入教材上的相应实验部分的语句做练习。</font>"
   ]
  },
  {
   "cell_type": "code",
   "execution_count": null,
   "id": "c7db7575",
   "metadata": {
    "ExecuteTime": {
     "end_time": "2025-09-07T04:11:21.961587Z",
     "start_time": "2025-09-07T04:11:21.958300Z"
    }
   },
   "outputs": [],
   "source": [
    "# 对照教材上的实验2第6点输入各种赋值语句， 可分多个单元格\n",
    "x = 100\n",
    "x = x + 2\n",
    "x += 2\n",
    "x = y = z = 200\n",
    "x, y, z = 1, 2, 3\n",
    "x, y = y, x\n",
    "lst = [7, 8, 9, 10]\n",
    "a, *p, z = lst\n",
    "a, b, *p= lst"
   ]
  },
  {
   "cell_type": "markdown",
   "id": "3596ce6d",
   "metadata": {},
   "source": [
    "### 5．运算符练习,P259"
   ]
  },
  {
   "cell_type": "markdown",
   "id": "4a78a8e8",
   "metadata": {},
   "source": [
    "（1）练习:  / 除法，// 整除，%余数，**幂"
   ]
  },
  {
   "cell_type": "code",
   "execution_count": null,
   "id": "5aea1ac1",
   "metadata": {},
   "outputs": [],
   "source": [
    "7 / 4"
   ]
  },
  {
   "cell_type": "code",
   "execution_count": null,
   "id": "0c9384fe",
   "metadata": {},
   "outputs": [],
   "source": [
    "7 // 4"
   ]
  },
  {
   "cell_type": "code",
   "execution_count": null,
   "id": "e4fb6429",
   "metadata": {},
   "outputs": [],
   "source": [
    "7 % 4"
   ]
  },
  {
   "cell_type": "code",
   "execution_count": null,
   "id": "2b15513b",
   "metadata": {},
   "outputs": [],
   "source": [
    "7 ** 4"
   ]
  },
  {
   "cell_type": "markdown",
   "id": "b0e0f68b",
   "metadata": {
    "ExecuteTime": {
     "end_time": "2025-09-07T04:53:55.867119Z",
     "start_time": "2025-09-07T04:53:55.863383Z"
    }
   },
   "source": [
    "（2）假定x=3。用and、or、not 等关系运算符写出相应的逻辑运算式：判断x在[1,10]之间；判断 x小于4或x大于10；判断x不大于10。"
   ]
  },
  {
   "cell_type": "code",
   "execution_count": null,
   "id": "99bd3169",
   "metadata": {},
   "outputs": [],
   "source": [
    "x = 3"
   ]
  },
  {
   "cell_type": "code",
   "execution_count": null,
   "id": "5f4f20e6",
   "metadata": {},
   "outputs": [],
   "source": [
    "x >= 1 and x <= 10"
   ]
  },
  {
   "cell_type": "code",
   "execution_count": null,
   "id": "f85799dd",
   "metadata": {},
   "outputs": [],
   "source": [
    "x < 4 or x > 10"
   ]
  },
  {
   "cell_type": "code",
   "execution_count": null,
   "id": "0559b6a7",
   "metadata": {},
   "outputs": [],
   "source": [
    "x <= 10"
   ]
  },
  {
   "cell_type": "markdown",
   "id": "172ea3c5",
   "metadata": {},
   "source": [
    "（3）成员运算符in。"
   ]
  },
  {
   "cell_type": "code",
   "execution_count": null,
   "id": "55b3eb04",
   "metadata": {},
   "outputs": [],
   "source": [
    "dict = [1,2,3,4,5,6]\n",
    "6 in dict"
   ]
  },
  {
   "cell_type": "markdown",
   "id": "a20984e8",
   "metadata": {},
   "source": [
    "（4）身份运算符is。"
   ]
  },
  {
   "cell_type": "code",
   "execution_count": null,
   "id": "da739278",
   "metadata": {},
   "outputs": [],
   "source": [
    "a = 10\n",
    "b = 10\n",
    "a is b"
   ]
  },
  {
   "cell_type": "code",
   "execution_count": null,
   "id": "d96a6b25",
   "metadata": {},
   "outputs": [],
   "source": [
    "a = 12\n",
    "a is b"
   ]
  },
  {
   "cell_type": "code",
   "execution_count": null,
   "id": "0bf04bae",
   "metadata": {},
   "outputs": [],
   "source": [
    "b = 12\n",
    "a is b"
   ]
  },
  {
   "cell_type": "markdown",
   "id": "efe5bc32",
   "metadata": {},
   "source": [
    "## 三、实验总结(由学生填写)\n",
    "写出实验结论，讨论实验中所遇的问题及可能的解释和处理方法，也可对实验的改进提出建议，简述自己做实验的心得体会等。\n"
   ]
  },
  {
   "cell_type": "code",
   "execution_count": null,
   "id": "3cded9b9",
   "metadata": {},
   "outputs": [],
   "source": []
  },
  {
   "cell_type": "markdown",
   "id": "f8265d0b",
   "metadata": {},
   "source": [
    "## 四、教师评语(由教师填写)\n",
    "+ A、完成所有规定的实验内容，实验步骤正确，结果正确。实验总结良好，言之有物。\n",
    "+ B、完成大部分规定的实验内容，实验步骤正确，结果基本正确。实验总结基本可行。\n",
    "+ C、完成大部分规定的实验内容，实验步骤正确，结果基本正确，但无实验总结。\n",
    "+ D、只完成一部分规定的实验内容，仅部分结果正确，无实验总结。\n",
    "+ E、大部分规定的实验内容均未完成。\n"
   ]
  },
  {
   "cell_type": "markdown",
   "id": "1fc053fc",
   "metadata": {},
   "source": [
    "实验报告等级: <font size=5>A </font> <br/>\n",
    "教师：XXX"
   ]
  },
  {
   "cell_type": "code",
   "execution_count": null,
   "id": "a77cb04e",
   "metadata": {},
   "outputs": [],
   "source": []
  },
  {
   "cell_type": "markdown",
   "id": "59448430",
   "metadata": {},
   "source": [
    "The MIT License (MIT)\n",
    "\n",
    "Copyright © 2025 xianhongtao\n",
    "\n",
    "Permission is hereby granted, free of charge, to any person obtaining a copy of this software and associated documentation files (the “Software”), to deal in the Software without restriction, including without limitation the rights to use, copy, modify, merge, publish, distribute, sublicense, and/or sell copies of the Software, and to permit persons to whom the Software is furnished to do so, subject to the following conditions:\n",
    "\n",
    "The above copyright notice and this permission notice shall be included in all copies or substantial portions of the Software.\n",
    "\n",
    "THE SOFTWARE IS PROVIDED “AS IS”, WITHOUT WARRANTY OF ANY KIND, EXPRESS OR IMPLIED, INCLUDING BUT NOT LIMITED TO THE WARRANTIES OF MERCHANTABILITY, FITNESS FOR A PARTICULAR PURPOSE AND NONINFRINGEMENT. IN NO EVENT SHALL THE AUTHORS OR COPYRIGHT HOLDERS BE LIABLE FOR ANY CLAIM, DAMAGES OR OTHER LIABILITY, WHETHER IN AN ACTION OF CONTRACT, TORT OR OTHERWISE, ARISING FROM, OUT OF OR IN CONNECTION WITH THE SOFTWARE OR THE USE OR OTHER DEALINGS IN THE SOFTWARE."
   ]
  }
 ],
 "metadata": {
  "kernelspec": {
   "display_name": ".venv",
   "language": "python",
   "name": "python3"
  },
  "language_info": {
   "codemirror_mode": {
    "name": "ipython",
    "version": 3
   },
   "file_extension": ".py",
   "mimetype": "text/x-python",
   "name": "python",
   "nbconvert_exporter": "python",
   "pygments_lexer": "ipython3",
   "version": "3.13.7"
  },
  "toc": {
   "base_numbering": 1,
   "nav_menu": {},
   "number_sections": false,
   "sideBar": true,
   "skip_h1_title": false,
   "title_cell": "Table of Contents",
   "title_sidebar": "Contents",
   "toc_cell": false,
   "toc_position": {
    "height": "calc(100% - 180px)",
    "left": "10px",
    "top": "150px",
    "width": "273.163px"
   },
   "toc_section_display": true,
   "toc_window_display": false
  },
  "varInspector": {
   "cols": {
    "lenName": 16,
    "lenType": 16,
    "lenVar": 40
   },
   "kernels_config": {
    "python": {
     "delete_cmd_postfix": "",
     "delete_cmd_prefix": "del ",
     "library": "var_list.py",
     "varRefreshCmd": "print(var_dic_list())"
    },
    "r": {
     "delete_cmd_postfix": ") ",
     "delete_cmd_prefix": "rm(",
     "library": "var_list.r",
     "varRefreshCmd": "cat(var_dic_list()) "
    }
   },
   "types_to_exclude": [
    "module",
    "function",
    "builtin_function_or_method",
    "instance",
    "_Feature"
   ],
   "window_display": false
  }
 },
 "nbformat": 4,
 "nbformat_minor": 5
}
