{
 "cells": [
  {
   "cell_type": "markdown",
   "id": "ae7a6828",
   "metadata": {},
   "source": [
    "## $$实验4  程序的流程控制$$"
   ]
  },
  {
   "cell_type": "markdown",
   "id": "13165a8c",
   "metadata": {},
   "source": [
    "\n",
    "|<font size=4>实验地点:|<font size=4>机房|<font size=4>实验日期:|<font size=4>2024-9-28|<font size=4>学院:|<font size=4>金融数学与统计学院|\n",
    "|:-|-|:-|-|:-|-|\n",
    "|<font size=4>学号:|<font size=4>  |<font size=4>姓名:|<font size=4>   |<font size=4> 课时:  |<font size=4> 2  |\n"
   ]
  },
  {
   "cell_type": "markdown",
   "id": "93f42b25",
   "metadata": {},
   "source": [
    "## 一、实验目的\n",
    "1. 掌握用if语句编写选择结构程序。\n",
    "2. 掌握用while语句编写循环结构程序。\n",
    "3. 掌握用for语句编写循环结构程序。\n",
    "4. 掌握用continue和break语句实现流程跳转。\n",
    "\n",
    "+ 实验环境：Python3.11 + Anaconda +Jupyter Notebook"
   ]
  },
  {
   "cell_type": "markdown",
   "id": "5b459a0c",
   "metadata": {},
   "source": [
    "## 二、实验内容"
   ]
  },
  {
   "cell_type": "markdown",
   "id": "636c989f",
   "metadata": {},
   "source": [
    "### 1．输入一个日期，包括年、月和日，计算该日期是这一年的第几天。"
   ]
  },
  {
   "cell_type": "code",
   "execution_count": 1,
   "id": "6ec9f37e",
   "metadata": {},
   "outputs": [
    {
     "name": "stdout",
     "output_type": "stream",
     "text": [
      "这是2025年的第321天\n"
     ]
    }
   ],
   "source": [
    "# 方法一: 自行计算\n",
    "s = input(\"输入一个日期(年-月-日):\")\n",
    "days = [31, 28, 31, 30, 31, 30, 31, 31, 30, 31, 30, 31]  # 每月的天数\n",
    "# 待补充\n",
    "year, month, day = map(int, s.split(\"-\"))\n",
    "if (year % 4 == 0 and year % 100 != 0) or (year % 400 == 0):\n",
    "    days[1] = 29  # 闰年2月29天\n",
    "total = sum(days[: month - 1]) + day\n",
    "print(\"这是{}年的第{}天\".format(year, total))"
   ]
  },
  {
   "cell_type": "code",
   "execution_count": 2,
   "id": "585b782b",
   "metadata": {},
   "outputs": [
    {
     "name": "stdout",
     "output_type": "stream",
     "text": [
      "这是2025年的第321天\n"
     ]
    }
   ],
   "source": [
    "# 方法二 : 用 datetime 或 time 库中的日期时间类型完成计算\n",
    "from datetime import datetime\n",
    "\n",
    "s = input(\"输入一个日期(年-月-日):\")\n",
    "y, m, d = [int(x) for x in s.split(\"-\")]  # 分解转换得到整数表示的 年 月 日\n",
    "# 待补充\n",
    "date = datetime(y, m, d)\n",
    "total = date.timetuple().tm_yday\n",
    "print(\"这是{}年的第{}天\".format(y, total))"
   ]
  },
  {
   "cell_type": "code",
   "execution_count": 3,
   "id": "ff05ec33",
   "metadata": {},
   "outputs": [
    {
     "name": "stdout",
     "output_type": "stream",
     "text": [
      "这是2025年的第321天\n"
     ]
    }
   ],
   "source": [
    "# 方法3: 利用 time类型变量的 tm_yday属性(当年的第x天)最简单\n",
    "import time\n",
    "\n",
    "s = input(\"输入一个日期(年-月-日):\")\n",
    "t = time.strptime(s, \"%Y-%m-%d\")  # 将字符串 s 转为 time类型\n",
    "\n",
    "# 待补充\n",
    "\n",
    "total = t.tm_yday\n",
    "print(\"这是{}年的第{}天\".format(t.tm_year, total))"
   ]
  },
  {
   "cell_type": "markdown",
   "id": "fc9be95c",
   "metadata": {},
   "source": [
    "###  2．输入三个整数，把这三个整数按从大到小的顺序输出。"
   ]
  },
  {
   "cell_type": "code",
   "execution_count": 4,
   "id": "7431cbe6",
   "metadata": {},
   "outputs": [
    {
     "name": "stdout",
     "output_type": "stream",
     "text": [
      "排序结果: 1 3 6\n"
     ]
    }
   ],
   "source": [
    "# 方法一: 用 if 语句两两比较完成排序\n",
    "a, b, c = eval(input(\"输入整数a,b,c(逗号分隔):\"))\n",
    "\n",
    "if a > b:\n",
    "    a, b = b, a\n",
    "if a > c:\n",
    "    a, c = c, a\n",
    "if b > c:\n",
    "    b, c = c, b\n",
    "print(\"排序结果:\", a, b, c)"
   ]
  },
  {
   "cell_type": "code",
   "execution_count": 5,
   "id": "c3615923",
   "metadata": {},
   "outputs": [
    {
     "name": "stdout",
     "output_type": "stream",
     "text": [
      "排序结果: [2, 3, 6]\n"
     ]
    }
   ],
   "source": [
    "# 方法二: 借助列表完成排序\n",
    "yz = eval(input(\"输入整数a,b,c(逗号分隔):\"))  # 得到元组\n",
    "\n",
    "lst = list(yz)\n",
    "lst.sort()\n",
    "print(\"排序结果:\", lst)"
   ]
  },
  {
   "cell_type": "markdown",
   "id": "265054f0",
   "metadata": {},
   "source": [
    "###  3．分别用while语句和for语句编写程序，计算整数100到1000的和，将结果保存在变量s中。"
   ]
  },
  {
   "cell_type": "code",
   "execution_count": 6,
   "id": "83d598cf",
   "metadata": {},
   "outputs": [
    {
     "name": "stdout",
     "output_type": "stream",
     "text": [
      "100到1000的和为: 495550\n"
     ]
    }
   ],
   "source": [
    "index = 100\n",
    "s = 0\n",
    "while index <= 1000:\n",
    "    s += index\n",
    "    index += 1\n",
    "print(\"100到1000的和为:\", s)"
   ]
  },
  {
   "cell_type": "code",
   "execution_count": 7,
   "id": "98e7c028",
   "metadata": {},
   "outputs": [
    {
     "name": "stdout",
     "output_type": "stream",
     "text": [
      "100到1000的和为: 495550\n"
     ]
    }
   ],
   "source": [
    "s = 0\n",
    "for i in range(100, 1001):\n",
    "    s += i\n",
    "print(\"100到1000的和为:\", s)"
   ]
  },
  {
   "cell_type": "markdown",
   "id": "49925612",
   "metadata": {},
   "source": [
    "<font color='blue'>注: 下面的assert是测试语句，用于检查程序的计算结果，不要修改。</font>"
   ]
  },
  {
   "cell_type": "code",
   "execution_count": 8,
   "id": "33361b31",
   "metadata": {},
   "outputs": [],
   "source": [
    "# 测试，如测试语句报错，说明上面程序代码不正确\n",
    "assert  s == 495550"
   ]
  },
  {
   "cell_type": "markdown",
   "id": "b513cef8",
   "metadata": {},
   "source": [
    "###  4．随机生成两个1000到10000之间的整数，若这两个整数之间有素数，则输出最小的一个，否则什么都不输出。例如生成的整数是2000和1500，程序要求查找[1500,2000]间的素数，应输出1511。"
   ]
  },
  {
   "cell_type": "code",
   "execution_count": 9,
   "id": "ee25bea4",
   "metadata": {},
   "outputs": [
    {
     "name": "stdout",
     "output_type": "stream",
     "text": [
      "5281\n"
     ]
    }
   ],
   "source": [
    "import random\n",
    "\n",
    "\n",
    "def is_prime(n):\n",
    "    if n <= 1:\n",
    "        return False\n",
    "    for i in range(2, int(n**0.5) + 1):\n",
    "        if n % i == 0:\n",
    "            return False\n",
    "    return True\n",
    "\n",
    "\n",
    "num_1 = random.randint(1000, 10000)\n",
    "num_2 = random.randint(1000, 10000)\n",
    "\n",
    "if num_1 > num_2:\n",
    "    num_1, num_2 = num_2, num_1\n",
    "\n",
    "for i in range(num_1, num_2 + 1):\n",
    "    if is_prime(i):\n",
    "        print(i)\n",
    "        break\n",
    "\n",
    "# 你肯定会用debug对吧，那就用debug调试一下上面的代码，看看是否正确吧。我就不手动print结果了"
   ]
  },
  {
   "cell_type": "markdown",
   "id": "aac96216",
   "metadata": {},
   "source": [
    "###  5．国际象棋棋盘共有64个方格，现在第一个格子上放1颗麦粒，以后每一个格子都比前一个格子的麦粒数翻倍。计算放满整个棋盘需要的麦粒总数，结果存于 wheat变量。"
   ]
  },
  {
   "cell_type": "code",
   "execution_count": 10,
   "id": "5b68f00e",
   "metadata": {},
   "outputs": [
    {
     "name": "stdout",
     "output_type": "stream",
     "text": [
      "64格棋盘上麦粒的总数为: 18446744073709551615\n"
     ]
    }
   ],
   "source": [
    "import math\n",
    "\n",
    "wheat = int(math.pow(2, 64)) - 1\n",
    "print(\"64格棋盘上麦粒的总数为:\", wheat)"
   ]
  },
  {
   "cell_type": "code",
   "execution_count": 11,
   "id": "e6d8a247",
   "metadata": {},
   "outputs": [],
   "source": [
    "# 测试\n",
    "assert  wheat == 18446744073709551615"
   ]
  },
  {
   "cell_type": "markdown",
   "id": "825fe8fa",
   "metadata": {},
   "source": [
    "###  6．编程输出如下的九九乘法表。"
   ]
  },
  {
   "attachments": {
    "image.png": {
     "image/png": "[encoded data removed]"
    }
   },
   "cell_type": "markdown",
   "id": "d4fefe59",
   "metadata": {},
   "source": [
    "![image.png](attachment:image.png)"
   ]
  },
  {
   "cell_type": "code",
   "execution_count": 12,
   "id": "17c0910f",
   "metadata": {},
   "outputs": [
    {
     "name": "stdout",
     "output_type": "stream",
     "text": [
      "1*1=1 \n",
      "1*2=2 2*2=4 \n",
      "1*3=3 2*3=6 3*3=9 \n",
      "1*4=4 2*4=8 3*4=12 4*4=16 \n",
      "1*5=5 2*5=10 3*5=15 4*5=20 5*5=25 \n",
      "1*6=6 2*6=12 3*6=18 4*6=24 5*6=30 6*6=36 \n",
      "1*7=7 2*7=14 3*7=21 4*7=28 5*7=35 6*7=42 7*7=49 \n",
      "1*8=8 2*8=16 3*8=24 4*8=32 5*8=40 6*8=48 7*8=56 8*8=64 \n",
      "1*9=9 2*9=18 3*9=27 4*9=36 5*9=45 6*9=54 7*9=63 8*9=72 9*9=81 \n"
     ]
    }
   ],
   "source": [
    "for i in range(9):\n",
    "    for j in range(i + 1):\n",
    "        print(f\"{j + 1}*{i + 1}={((j + 1) * (i + 1))}\", end=\" \")\n",
    "    print()"
   ]
  },
  {
   "cell_type": "markdown",
   "id": "aa3a335f",
   "metadata": {},
   "source": [
    "###  7.按下面的固定的随机代码生成代表5个随机点坐标的元组对，计算这些点之间两点之间最大的距离，存于maxdistance变量。最大距离是哪两个点之间的距离？"
   ]
  },
  {
   "cell_type": "code",
   "execution_count": 13,
   "id": "6e2ea9fb",
   "metadata": {},
   "outputs": [
    {
     "name": "stdout",
     "output_type": "stream",
     "text": [
      "5个点为: [(2, -3), (3, 5), (-3, -4), (5, -4), (2, 4)]\n",
      "最大距离为: 10.816653826391969\n"
     ]
    }
   ],
   "source": [
    "import random\n",
    "random.seed(7)\n",
    "lst = [(random.randint(-3, 5), random.randint(-5, 6)) for _ in range(5)]\n",
    "print('5个点为:', lst)\n",
    "\n",
    "# 待补充\n",
    "maxdistance = 0\n",
    "for cordnate_a in lst:\n",
    "    for cordnate_b in lst:\n",
    "        distant = math.sqrt(\n",
    "            (cordnate_a[0] - cordnate_b[0]) ** 2 + (cordnate_a[1] - cordnate_b[1]) ** 2\n",
    "        )\n",
    "        if distant > maxdistance:\n",
    "            maxdistance = distant\n",
    "print(\"最大距离为:\", maxdistance) "
   ]
  },
  {
   "cell_type": "code",
   "execution_count": 14,
   "id": "063fe47f",
   "metadata": {},
   "outputs": [],
   "source": [
    "# 测试\n",
    "# assert  maxdistance==10.82\n",
    "\n",
    "assert 10.81 <= maxdistance <= 10.83 #一点容错不给那丢一下精度你不炸了"
   ]
  },
  {
   "cell_type": "markdown",
   "id": "9912f9b7",
   "metadata": {},
   "source": [
    "###  8. 有下面的扑克牌cards（不含大小王，共52张）"
   ]
  },
  {
   "cell_type": "code",
   "execution_count": 15,
   "id": "56640560",
   "metadata": {},
   "outputs": [
    {
     "name": "stdout",
     "output_type": "stream",
     "text": [
      "['方2', '方3', '方4', '方5', '方6', '方7', '方8', '方9', '方10', '方J', '方Q', '方K', '方A', '梅2', '梅3', '梅4', '梅5', '梅6', '梅7', '梅8', '梅9', '梅10', '梅J', '梅Q', '梅K', '梅A', '红2', '红3', '红4', '红5', '红6', '红7', '红8', '红9', '红10', '红J', '红Q', '红K', '红A', '黑2', '黑3', '黑4', '黑5', '黑6', '黑7', '黑8', '黑9', '黑10', '黑J', '黑Q', '黑K', '黑A']\n"
     ]
    }
   ],
   "source": [
    "suit = list('方梅红黑')\n",
    "rank = [str(x) for x in range(2, 11)] + list('JQKA')\n",
    "cards = [s + r for s in suit for r in rank]  # 用双重循环的列表生成式构造52张牌\n",
    "print(cards)"
   ]
  },
  {
   "cell_type": "markdown",
   "id": "795cf87e",
   "metadata": {},
   "source": [
    "(1)\t用列表切片的方式取得并输出所有的方块，所有的红桃，四种花色的2，四种花色的A；"
   ]
  },
  {
   "cell_type": "code",
   "execution_count": 16,
   "id": "ef79cbd0",
   "metadata": {},
   "outputs": [
    {
     "name": "stdout",
     "output_type": "stream",
     "text": [
      "方块: ['方2', '方3', '方4', '方5', '方6', '方7', '方8', '方9', '方10', '方J', '方Q', '方K', '方A']\n",
      "红桃: ['红2', '红3', '红4', '红5', '红6', '红7', '红8', '红9', '红10', '红J', '红Q', '红K', '红A']\n",
      "2: ['方2', '梅2', '红2', '黑2']\n",
      "A: ['方A', '梅A', '红A', '黑A']\n"
     ]
    }
   ],
   "source": [
    "print('方块:', cards[:13])\n",
    "# 待补充\n",
    "print('红桃:', cards[26:39])\n",
    "print(\"2:\", cards[0::13])\n",
    "print(\"A:\", cards[12::13])"
   ]
  },
  {
   "cell_type": "markdown",
   "id": "0056b4ca",
   "metadata": {},
   "source": [
    "(2)\t将cards复制得到cards2。设置随机种子7，将cards2随机洗牌(random.shuffle)；"
   ]
  },
  {
   "cell_type": "code",
   "execution_count": 17,
   "id": "d9ca5d14",
   "metadata": {},
   "outputs": [
    {
     "name": "stdout",
     "output_type": "stream",
     "text": [
      "洗牌后: ['梅6', '黑2', '红7', '方Q', '黑3', '方K', '方2', '梅8', '梅3', '黑K', '梅5', '方10', '红A', '黑7', '红9', '黑8', '梅K', '红5', '梅J', '方A', '梅10', '黑6', '红6', '红4', '黑Q', '黑A', '方9', '黑J', '梅7', '红J', '方3', '红Q', '黑5', '梅4', '黑9', '红2', '红3', '方7', '方4', '梅2', '红8', '黑10', '红K', '梅Q', '方8', '红10', '方6', '方5', '黑4', '梅A', '方J', '梅9']\n"
     ]
    }
   ],
   "source": [
    "import random\n",
    "cards2 = cards.copy()  # 复制得到card2\n",
    "random.seed(7)\n",
    "\n",
    "# 对cards2随机洗牌\n",
    "random.shuffle(cards2)\n",
    "\n",
    "print(\"洗牌后:\", cards2)"
   ]
  },
  {
   "cell_type": "markdown",
   "id": "91823d20",
   "metadata": {},
   "source": [
    "(3)\t将洗后的牌cards2每次一张依次分发给a、b、c、d四个玩家；"
   ]
  },
  {
   "cell_type": "code",
   "execution_count": 18,
   "id": "4892d762",
   "metadata": {},
   "outputs": [
    {
     "name": "stdout",
     "output_type": "stream",
     "text": [
      "玩家A的牌: ['梅6', '黑3', '梅3', '红A', '梅K', '梅10', '黑Q', '梅7', '黑5', '红3', '红8', '方8', '黑4']\n",
      "玩家B的牌: ['黑2', '方K', '黑K', '黑7', '红5', '黑6', '黑A', '红J', '梅4', '方7', '黑10', '红10', '梅A']\n",
      "玩家C的牌: ['红7', '方2', '梅5', '红9', '梅J', '红6', '方9', '方3', '黑9', '方4', '红K', '方6', '方J']\n",
      "玩家D的牌: ['方Q', '梅8', '方10', '黑8', '方A', '红4', '黑J', '红Q', '红2', '梅2', '梅Q', '方5', '梅9']\n"
     ]
    }
   ],
   "source": [
    "a, b, c, d = [], [], [], []  # 对应4个玩家手中的牌的小列表\n",
    "lst = [a, b, c, d]           # 为便于编程，可将其都放入大列表\n",
    "\n",
    "for i in range(len(cards2)):\n",
    "    if i % 4 == 0:\n",
    "        a.append(cards2[i])\n",
    "    elif i % 4 == 1:\n",
    "        b.append(cards2[i])\n",
    "    elif i % 4 == 2:\n",
    "        c.append(cards2[i])\n",
    "    else:\n",
    "        d.append(cards2[i])\n",
    "\n",
    "print(\"玩家A的牌:\", a)\n",
    "print(\"玩家B的牌:\", b)\n",
    "print(\"玩家C的牌:\", c)\n",
    "print(\"玩家D的牌:\", d)"
   ]
  },
  {
   "cell_type": "markdown",
   "id": "f435d2bf",
   "metadata": {},
   "source": [
    "(4)\t现在计算每个玩家手中牌的点数之和并输出。假定：牌2至牌10按牌面点数算，J按11点，Q按12点，K按13点，A按14点。例如'方K', '方A', '梅2', '梅3' 四张牌的点数之和应为13 + 14 + 2 + 3=32"
   ]
  },
  {
   "cell_type": "code",
   "execution_count": 19,
   "id": "f0733b35",
   "metadata": {},
   "outputs": [
    {
     "name": "stdout",
     "output_type": "stream",
     "text": [
      "牌面映射字典为: {'2': 2, '3': 3, '4': 4, '5': 5, '6': 6, '7': 7, '8': 8, '9': 9, '10': 10, 'J': 11, 'Q': 12, 'K': 13, 'A': 14}\n",
      "玩家A点数和: 96\n",
      "玩家B点数和: 116\n",
      "玩家C点数和: 95\n",
      "玩家D点数和: 109\n"
     ]
    }
   ],
   "source": [
    "# 有多种方式，此处构造字典，对应牌和数值的映射，后续计算时从字典中查数值\n",
    "dic = {str(x): x for x in range(2, 11)}\n",
    "dic2 = {'J': 11, 'Q': 12, 'K': 13, 'A': 14}\n",
    "dic.update(dic2)   # 更新字典，将dic2的内容合并到dic中\n",
    "print('牌面映射字典为:',dic)\n",
    "\n",
    "# 待补充\n",
    "\n",
    "def hand_value(hand):\n",
    "    return sum(dic[card[1:]] for card in hand)\n",
    "\n",
    "va = hand_value(a)\n",
    "vb = hand_value(b)\n",
    "vc = hand_value(c)\n",
    "vd = hand_value(d)\n",
    "\n",
    "print(\"玩家A点数和:\", va)\n",
    "print(\"玩家B点数和:\", vb)\n",
    "print(\"玩家C点数和:\", vc)\n",
    "print(\"玩家D点数和:\", vd)"
   ]
  },
  {
   "cell_type": "markdown",
   "id": "3cf140ea",
   "metadata": {},
   "source": [
    "## 三、实验总结(由学生填写)\n",
    "写出实验结论，讨论实验中所遇的问题及可能的解释和处理方法，也可对实验的改进提出建议，简述自己做实验的心得体会等。\n"
   ]
  },
  {
   "cell_type": "code",
   "execution_count": null,
   "id": "38d8bee1",
   "metadata": {},
   "outputs": [],
   "source": []
  },
  {
   "cell_type": "markdown",
   "id": "7523a5d8",
   "metadata": {},
   "source": [
    "## 四、教师评语(由教师填写)\n",
    "+ A、完成所有规定的实验内容，实验步骤正确，结果正确。实验总结良好，言之有物。\n",
    "+ B、完成大部分规定的实验内容，实验步骤正确，结果基本正确。实验总结基本可行。\n",
    "+ C、完成大部分规定的实验内容，实验步骤正确，结果基本正确，但无实验总结。\n",
    "+ D、只完成一部分规定的实验内容，仅部分结果正确，无实验总结。\n",
    "+ E、大部分规定的实验内容均未完成。\n"
   ]
  },
  {
   "cell_type": "markdown",
   "id": "246774bf",
   "metadata": {},
   "source": [
    "实验报告等级: <font size=5>A </font> <br/>\n",
    "教师：XXX"
   ]
  },
  {
   "cell_type": "code",
   "execution_count": null,
   "id": "d7b30028",
   "metadata": {},
   "outputs": [],
   "source": []
  }
 ],
 "metadata": {
  "kernelspec": {
   "display_name": ".venv",
   "language": "python",
   "name": "python3"
  },
  "language_info": {
   "codemirror_mode": {
    "name": "ipython",
    "version": 3
   },
   "file_extension": ".py",
   "mimetype": "text/x-python",
   "name": "python",
   "nbconvert_exporter": "python",
   "pygments_lexer": "ipython3",
   "version": "3.13.7"
  },
  "toc": {
   "base_numbering": 1,
   "nav_menu": {},
   "number_sections": false,
   "sideBar": true,
   "skip_h1_title": false,
   "title_cell": "Table of Contents",
   "title_sidebar": "Contents",
   "toc_cell": false,
   "toc_position": {
    "height": "calc(100% - 180px)",
    "left": "10px",
    "top": "150px",
    "width": "273.167px"
   },
   "toc_section_display": true,
   "toc_window_display": false
  },
  "varInspector": {
   "cols": {
    "lenName": 16,
    "lenType": 16,
    "lenVar": 40
   },
   "kernels_config": {
    "python": {
     "delete_cmd_postfix": "",
     "delete_cmd_prefix": "del ",
     "library": "var_list.py",
     "varRefreshCmd": "print(var_dic_list())"
    },
    "r": {
     "delete_cmd_postfix": ") ",
     "delete_cmd_prefix": "rm(",
     "library": "var_list.r",
     "varRefreshCmd": "cat(var_dic_list()) "
    }
   },
   "types_to_exclude": [
    "module",
    "function",
    "builtin_function_or_method",
    "instance",
    "_Feature"
   ],
   "window_display": false
  }
 },
 "nbformat": 4,
 "nbformat_minor": 5
}
