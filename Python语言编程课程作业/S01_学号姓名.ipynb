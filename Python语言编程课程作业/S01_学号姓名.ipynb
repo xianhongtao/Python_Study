{
 "cells": [
  {
   "cell_type": "markdown",
   "id": "e4b4f653",
   "metadata": {},
   "source": [
    "## $$实验1 Python和内置函数$$"
   ]
  },
  {
   "cell_type": "markdown",
   "id": "0fc19976",
   "metadata": {},
   "source": [
    "**完整实验文档见教材12章**。交电子版，文档中的学号和姓名要填入，本文档文件名部分的\"学号姓名\"也要改为你的实际数据，前缀\"S01_\"不要改。"
   ]
  },
  {
   "cell_type": "markdown",
   "id": "7d2ff9ed",
   "metadata": {},
   "source": [
    "\n",
    "|<font size=4>实验地点:|<font size=4>机房|<font size=4>实验日期:|<font size=4>2024-9-28|<font size=4>学院:|<font size=4>互联网学院|\n",
    "|:-|-|:-|-|:-|-|\n",
    "|<font size=4>学号:|<font size=4> （你的学号） |<font size=4>姓名:|<font size=4> （你的名字）  |<font size=4> 课时:  |<font size=4> 2  |\n"
   ]
  },
  {
   "cell_type": "markdown",
   "id": "d10510a4",
   "metadata": {},
   "source": [
    "## 一、实验目的\n",
    "1. 学习Python开发包的下载、安装和IDLE的使用。\n",
    "2. 学习安装Anaconda开发平台，学习使用pip工具。\n",
    "3. 学习IPython开发工具的使用。\n",
    "4. 学习内置函数的使用。\n",
    "\n",
    "+ 实验环境：Python3.11 + Anaconda +Jupyter Notebook"
   ]
  },
  {
   "cell_type": "markdown",
   "id": "9c239da0",
   "metadata": {},
   "source": [
    "## 二、实验内容"
   ]
  },
  {
   "cell_type": "markdown",
   "id": "a76770d0",
   "metadata": {},
   "source": [
    "### 1.Anaconda的安装，p252"
   ]
  },
  {
   "cell_type": "code",
   "execution_count": null,
   "id": "354e2ab4",
   "metadata": {},
   "outputs": [],
   "source": []
  },
  {
   "cell_type": "code",
   "execution_count": null,
   "id": "e64dff39",
   "metadata": {},
   "outputs": [],
   "source": []
  },
  {
   "cell_type": "markdown",
   "id": "bee63bed",
   "metadata": {},
   "source": [
    "### 2.命令练习（输入教材此部分\"IDLE的使用\"中的练习命令，可分多个单元格输入)P252"
   ]
  },
  {
   "cell_type": "code",
   "execution_count": null,
   "id": "614ea07e",
   "metadata": {},
   "outputs": [],
   "source": [
    "1 + 2"
   ]
  },
  {
   "cell_type": "code",
   "execution_count": null,
   "id": "f3967ff6",
   "metadata": {},
   "outputs": [],
   "source": [
    "10 + 30.5"
   ]
  },
  {
   "cell_type": "code",
   "execution_count": null,
   "id": "8ddf243c",
   "metadata": {},
   "outputs": [],
   "source": [
    "10 - 30.5"
   ]
  },
  {
   "cell_type": "code",
   "execution_count": null,
   "id": "d180c991",
   "metadata": {},
   "outputs": [],
   "source": [
    "x = 14\n",
    "y = 4"
   ]
  },
  {
   "cell_type": "code",
   "execution_count": null,
   "id": "99e55bb1",
   "metadata": {},
   "outputs": [],
   "source": [
    "x / y"
   ]
  },
  {
   "cell_type": "code",
   "execution_count": null,
   "id": "58612694",
   "metadata": {},
   "outputs": [],
   "source": [
    "x // y"
   ]
  },
  {
   "cell_type": "code",
   "execution_count": null,
   "id": "c265430b",
   "metadata": {},
   "outputs": [],
   "source": [
    "3 ** 0.5"
   ]
  },
  {
   "cell_type": "code",
   "execution_count": null,
   "id": "aa5a42cc",
   "metadata": {},
   "outputs": [],
   "source": [
    "10 ** 1000"
   ]
  },
  {
   "cell_type": "code",
   "execution_count": null,
   "id": "5fa536e4",
   "metadata": {},
   "outputs": [],
   "source": [
    "5 % 2"
   ]
  },
  {
   "cell_type": "code",
   "execution_count": null,
   "id": "f7f728cb",
   "metadata": {},
   "outputs": [],
   "source": [
    "4 % 2"
   ]
  },
  {
   "cell_type": "code",
   "execution_count": null,
   "id": "813f357a",
   "metadata": {},
   "outputs": [],
   "source": [
    "23 % 5"
   ]
  },
  {
   "cell_type": "code",
   "execution_count": null,
   "id": "e2578b8b",
   "metadata": {},
   "outputs": [],
   "source": [
    "print(x,y)"
   ]
  },
  {
   "cell_type": "code",
   "execution_count": null,
   "id": "5997c4dc",
   "metadata": {},
   "outputs": [],
   "source": [
    "'x={} y={}'.format(x,y)"
   ]
  },
  {
   "cell_type": "code",
   "execution_count": null,
   "id": "6681681f",
   "metadata": {},
   "outputs": [],
   "source": [
    "x = 14\n",
    "y = 4\n",
    "z = 2"
   ]
  },
  {
   "cell_type": "code",
   "execution_count": null,
   "id": "f867a7a4",
   "metadata": {},
   "outputs": [],
   "source": [
    "x > y"
   ]
  },
  {
   "cell_type": "code",
   "execution_count": null,
   "id": "ac18ac76",
   "metadata": {},
   "outputs": [],
   "source": [
    "x < y"
   ]
  },
  {
   "cell_type": "code",
   "execution_count": null,
   "id": "b1c66f66",
   "metadata": {},
   "outputs": [],
   "source": [
    "x == y"
   ]
  },
  {
   "cell_type": "code",
   "execution_count": null,
   "id": "d9d5e3be",
   "metadata": {},
   "outputs": [],
   "source": [
    "4 == 4"
   ]
  },
  {
   "cell_type": "code",
   "execution_count": null,
   "id": "490fd8e0",
   "metadata": {},
   "outputs": [],
   "source": [
    "4 == '4'"
   ]
  },
  {
   "cell_type": "code",
   "execution_count": null,
   "id": "9ea7bc12",
   "metadata": {},
   "outputs": [],
   "source": [
    "x != y"
   ]
  },
  {
   "cell_type": "code",
   "execution_count": null,
   "id": "aa5a637f",
   "metadata": {},
   "outputs": [],
   "source": [
    "# 4 + '4'"
   ]
  },
  {
   "cell_type": "code",
   "execution_count": null,
   "id": "8bc61009",
   "metadata": {},
   "outputs": [],
   "source": [
    "4 + int('4')"
   ]
  },
  {
   "cell_type": "code",
   "execution_count": null,
   "id": "2f259d22",
   "metadata": {},
   "outputs": [],
   "source": [
    "abs(-10)"
   ]
  },
  {
   "cell_type": "code",
   "execution_count": null,
   "id": "0ab676f2",
   "metadata": {},
   "outputs": [],
   "source": [
    "help(abs)"
   ]
  },
  {
   "cell_type": "code",
   "execution_count": null,
   "id": "c642dd45",
   "metadata": {},
   "outputs": [],
   "source": [
    "round(3.1415)"
   ]
  },
  {
   "cell_type": "code",
   "execution_count": null,
   "id": "4f523cfd",
   "metadata": {},
   "outputs": [],
   "source": [
    "round(3.1415,2)"
   ]
  },
  {
   "cell_type": "code",
   "execution_count": null,
   "id": "2ad35d9e",
   "metadata": {},
   "outputs": [],
   "source": [
    "round(3.1415,3)"
   ]
  },
  {
   "cell_type": "code",
   "execution_count": null,
   "id": "7e3ec90b",
   "metadata": {},
   "outputs": [],
   "source": [
    "2 ** 5"
   ]
  },
  {
   "cell_type": "code",
   "execution_count": null,
   "id": "6978baab",
   "metadata": {},
   "outputs": [],
   "source": [
    "pow(2,5)"
   ]
  },
  {
   "cell_type": "code",
   "execution_count": null,
   "id": "b321069c",
   "metadata": {},
   "outputs": [],
   "source": [
    "pow(2,1/3)"
   ]
  },
  {
   "cell_type": "markdown",
   "id": "7c5a437e",
   "metadata": {},
   "source": [
    "### 3．Ipython 开发工具的使用 P254"
   ]
  },
  {
   "cell_type": "markdown",
   "id": "e42ae99b",
   "metadata": {},
   "source": [
    "**方法1：启动Anaconda Prompt窗口，在窗口中输入“ipython”命令进入IPython交互式命令窗口。quit()退出ipython。**"
   ]
  },
  {
   "cell_type": "code",
   "execution_count": null,
   "id": "37e349f5",
   "metadata": {},
   "outputs": [],
   "source": [
    "print(\"我该写什么\")"
   ]
  },
  {
   "cell_type": "markdown",
   "id": "340bce43",
   "metadata": {},
   "source": [
    "**方法2：选择“Anaconda程序组”中的spyder程序项，打开spyder集成开发环境窗口，该环境提供了IPython相互命令窗格。在Ipython交互式命令窗口的“In[序号]：”提示符后面输入语句，查看结果.具体语句内容见P254-4-方法2**"
   ]
  },
  {
   "cell_type": "code",
   "execution_count": null,
   "id": "0a445fdd",
   "metadata": {},
   "outputs": [],
   "source": [
    "print('Hello,Python')\n",
    "x = 10\n",
    "print(x)"
   ]
  },
  {
   "cell_type": "markdown",
   "id": "95f7b55f",
   "metadata": {},
   "source": [
    "**方法3：见教材P255页，方法3内容。在如下单元格中输入p255页，图12.10代码，并调试**"
   ]
  },
  {
   "cell_type": "code",
   "execution_count": null,
   "id": "a9d3a089",
   "metadata": {},
   "outputs": [],
   "source": [
    "a = 20\n",
    "b = 10\n",
    "if a > b:\n",
    "    c = a\n",
    "    a = b\n",
    "    b = c\n",
    "print(a,b)"
   ]
  },
  {
   "cell_type": "markdown",
   "id": "05d4b57e",
   "metadata": {},
   "source": [
    "### 4．运算符和表达式P255"
   ]
  },
  {
   "cell_type": "markdown",
   "id": "a2a3b5e7",
   "metadata": {},
   "source": [
    "写出下列公式的Python表达式。"
   ]
  },
  {
   "cell_type": "markdown",
   "id": "14ef3b59",
   "metadata": {},
   "source": [
    "① $5 + (2 \\times 3)^2$"
   ]
  },
  {
   "cell_type": "code",
   "execution_count": null,
   "id": "94d07238",
   "metadata": {},
   "outputs": [],
   "source": [
    "5 + (2 * 3) ** 2"
   ]
  },
  {
   "cell_type": "markdown",
   "id": "44f1a301",
   "metadata": {},
   "source": [
    "② $2a(b + 5)$"
   ]
  },
  {
   "cell_type": "code",
   "execution_count": null,
   "id": "ab0f62c1",
   "metadata": {
    "ExecuteTime": {
     "end_time": "2024-08-30T04:21:16.968134Z",
     "start_time": "2024-08-30T04:21:16.965516Z"
    }
   },
   "outputs": [],
   "source": [
    "a = 2; b = 3\n",
    "2 * a * (b + 5)"
   ]
  },
  {
   "cell_type": "markdown",
   "id": "31a60b5c",
   "metadata": {},
   "source": [
    "③ $cos^2(a + b)$"
   ]
  },
  {
   "cell_type": "code",
   "execution_count": null,
   "id": "548ccda7",
   "metadata": {},
   "outputs": [],
   "source": [
    "import math\n",
    "math.cos(a + b) ** 2"
   ]
  },
  {
   "cell_type": "markdown",
   "id": "022ec11e",
   "metadata": {
    "ExecuteTime": {
     "end_time": "2025-08-31T08:31:59.907900Z",
     "start_time": "2025-08-31T08:31:59.898300Z"
    }
   },
   "source": [
    "### 5．内置函数的使用P256"
   ]
  },
  {
   "cell_type": "markdown",
   "id": "50857736",
   "metadata": {},
   "source": [
    "（1）在IPython命令窗口中实现：输入一个字符串，统计字符串中的字符个数、最大字符、最小字符，将字符串中的所有字母大写、所有字母小写、所有字母大小写互换、每个单词的首字母大写，查找字符串中特定字符（如Python）的位置。"
   ]
  },
  {
   "cell_type": "code",
   "execution_count": null,
   "id": "07e86e7b",
   "metadata": {},
   "outputs": [],
   "source": [
    "#s = input('请输入一串字符串')\n",
    "s = \"test phrace ABC abc\""
   ]
  },
  {
   "cell_type": "code",
   "execution_count": null,
   "id": "df4b36ff",
   "metadata": {},
   "outputs": [],
   "source": [
    "len(s)"
   ]
  },
  {
   "cell_type": "code",
   "execution_count": null,
   "id": "3588101e",
   "metadata": {},
   "outputs": [],
   "source": [
    "max(s)"
   ]
  },
  {
   "cell_type": "code",
   "execution_count": null,
   "id": "0ace7bbd",
   "metadata": {},
   "outputs": [],
   "source": [
    "min(s)"
   ]
  },
  {
   "cell_type": "code",
   "execution_count": null,
   "id": "a9406c10",
   "metadata": {},
   "outputs": [],
   "source": [
    "ord('y')\n",
    "# ord('')"
   ]
  },
  {
   "cell_type": "code",
   "execution_count": null,
   "id": "fd0da58c",
   "metadata": {},
   "outputs": [],
   "source": [
    "s.upper()"
   ]
  },
  {
   "cell_type": "code",
   "execution_count": null,
   "id": "ec0d2e56",
   "metadata": {},
   "outputs": [],
   "source": [
    "s.lower()"
   ]
  },
  {
   "cell_type": "code",
   "execution_count": null,
   "id": "6c07973b",
   "metadata": {},
   "outputs": [],
   "source": [
    "s.swapcase()"
   ]
  },
  {
   "cell_type": "code",
   "execution_count": null,
   "id": "a0620829",
   "metadata": {},
   "outputs": [],
   "source": [
    "s.title()"
   ]
  },
  {
   "cell_type": "code",
   "execution_count": null,
   "id": "3963aa8a",
   "metadata": {},
   "outputs": [],
   "source": [
    "s.find('test')"
   ]
  },
  {
   "cell_type": "code",
   "execution_count": null,
   "id": "b034496a",
   "metadata": {},
   "outputs": [],
   "source": [
    "s.find('abcd')"
   ]
  },
  {
   "cell_type": "code",
   "execution_count": null,
   "id": "363e042d",
   "metadata": {},
   "outputs": [],
   "source": [
    "# s.index('abcd')"
   ]
  },
  {
   "cell_type": "markdown",
   "id": "31ab076c",
   "metadata": {},
   "source": [
    "（2）在IPython命令窗口中实现：根据圆的半径计算圆的周长和面积。"
   ]
  },
  {
   "cell_type": "code",
   "execution_count": null,
   "id": "e178f583",
   "metadata": {},
   "outputs": [],
   "source": [
    "import math"
   ]
  },
  {
   "cell_type": "code",
   "execution_count": null,
   "id": "0c5ef778",
   "metadata": {},
   "outputs": [],
   "source": [
    "r = 2.5\n",
    "C = 2 * math.pi * r\n",
    "S = r ** 2 * math.pi"
   ]
  },
  {
   "cell_type": "code",
   "execution_count": null,
   "id": "54ef2567",
   "metadata": {},
   "outputs": [],
   "source": [
    "print(f'圆的半径为:{r:.2f}，周长为:{C:2f}，面积为:{S:.2f}')"
   ]
  },
  {
   "cell_type": "markdown",
   "id": "2cd4fd93",
   "metadata": {},
   "source": [
    "（3）在IPython命令窗口中实现：输入三角形的三条边，计算三角形的面积。"
   ]
  },
  {
   "cell_type": "code",
   "execution_count": null,
   "id": "3645b39a",
   "metadata": {},
   "outputs": [],
   "source": [
    "import math"
   ]
  },
  {
   "cell_type": "code",
   "execution_count": null,
   "id": "bbcb59db",
   "metadata": {},
   "outputs": [],
   "source": [
    "a = input()\n",
    "b = input()\n",
    "c = input()"
   ]
  },
  {
   "cell_type": "code",
   "execution_count": null,
   "id": "c2c3cad5",
   "metadata": {},
   "outputs": [],
   "source": [
    "a = eval(a)\n",
    "b = eval(b)\n",
    "c = eval(c)"
   ]
  },
  {
   "cell_type": "code",
   "execution_count": null,
   "id": "9b4d172e",
   "metadata": {},
   "outputs": [],
   "source": [
    "p = (a + b + c) / 2"
   ]
  },
  {
   "cell_type": "code",
   "execution_count": null,
   "id": "24143a04",
   "metadata": {},
   "outputs": [],
   "source": [
    "S = math.sqrt(p * (p - a) * (p - b) * (p - c))"
   ]
  },
  {
   "cell_type": "code",
   "execution_count": null,
   "id": "c58d2ca6",
   "metadata": {},
   "outputs": [],
   "source": [
    "print('三角形的面积为:{:.2f}'.format(S))"
   ]
  },
  {
   "cell_type": "markdown",
   "id": "422a1a4a",
   "metadata": {},
   "source": [
    "## 三、实验总结(由学生填写)\n",
    "写出实验小结，讨论实验中所遇的问题及可能的解释和处理方法，也可对实验改进提出建议，简述自己做实验的心得体会等。\n"
   ]
  },
  {
   "cell_type": "code",
   "execution_count": null,
   "id": "d409dd40",
   "metadata": {},
   "outputs": [],
   "source": []
  },
  {
   "cell_type": "markdown",
   "id": "8d038a1e",
   "metadata": {},
   "source": [
    "## 四、教师评语(由教师填写)\n",
    "+ A、完成所有规定的实验内容，实验步骤正确，结果正确。实验总结良好，言之有物。\n",
    "+ B、完成大部分规定的实验内容，实验步骤正确，结果基本正确。实验总结基本可行。\n",
    "+ C、完成大部分规定的实验内容，实验步骤正确，结果基本正确，但无实验总结。\n",
    "+ D、只完成一部分规定的实验内容，仅部分结果正确，无实验总结。\n",
    "+ E、大部分规定的实验内容均未完成。\n"
   ]
  },
  {
   "cell_type": "markdown",
   "id": "7245677e",
   "metadata": {},
   "source": [
    "实验报告等级: <font size=5>A </font> <br/>\n",
    "教师：XXX"
   ]
  },
  {
   "cell_type": "code",
   "execution_count": null,
   "id": "8adb3952",
   "metadata": {},
   "outputs": [],
   "source": []
  },
  {
   "cell_type": "code",
   "execution_count": null,
   "id": "a19686bb",
   "metadata": {},
   "outputs": [],
   "source": []
  }
 ],
 "metadata": {
  "kernelspec": {
   "display_name": ".venv",
   "language": "python",
   "name": "python3"
  },
  "language_info": {
   "codemirror_mode": {
    "name": "ipython",
    "version": 3
   },
   "file_extension": ".py",
   "mimetype": "text/x-python",
   "name": "python",
   "nbconvert_exporter": "python",
   "pygments_lexer": "ipython3",
   "version": "3.13.7"
  },
  "toc": {
   "base_numbering": 1,
   "nav_menu": {},
   "number_sections": false,
   "sideBar": true,
   "skip_h1_title": false,
   "title_cell": "Table of Contents",
   "title_sidebar": "Contents",
   "toc_cell": false,
   "toc_position": {
    "height": "calc(100% - 180px)",
    "left": "10px",
    "top": "150px",
    "width": "260.271px"
   },
   "toc_section_display": true,
   "toc_window_display": true
  },
  "varInspector": {
   "cols": {
    "lenName": 16,
    "lenType": 16,
    "lenVar": 40
   },
   "kernels_config": {
    "python": {
     "delete_cmd_postfix": "",
     "delete_cmd_prefix": "del ",
     "library": "var_list.py",
     "varRefreshCmd": "print(var_dic_list())"
    },
    "r": {
     "delete_cmd_postfix": ") ",
     "delete_cmd_prefix": "rm(",
     "library": "var_list.r",
     "varRefreshCmd": "cat(var_dic_list()) "
    }
   },
   "types_to_exclude": [
    "module",
    "function",
    "builtin_function_or_method",
    "instance",
    "_Feature"
   ],
   "window_display": false
  }
 },
 "nbformat": 4,
 "nbformat_minor": 5
}
