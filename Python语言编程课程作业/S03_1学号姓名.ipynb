{
 "cells": [
  {
   "cell_type": "markdown",
   "id": "34e14ef3",
   "metadata": {},
   "source": [
    "## $$ 实验3    容器数据类型及若干库练习$$"
   ]
  },
  {
   "cell_type": "markdown",
   "id": "d2706499",
   "metadata": {},
   "source": [
    "\n",
    "|<font size=4>实验地点:|<font size=4>机房|<font size=4>实验日期:|<font size=4>2024-9-30|<font size=4>学院:|<font size=4>数统学院|\n",
    "|:-|-|:-|-|:-|-|\n",
    "|<font size=4>学号:|<font size=4> |<font size=4>姓名:|<font size=4>  |<font size=4> 课时:  |<font size=4> 3  |\n"
   ]
  },
  {
   "cell_type": "markdown",
   "id": "5aea7c0d",
   "metadata": {},
   "source": [
    "## 一、实验目的\n",
    "1. 了解列表、元组、字典和集合的概念。\n",
    "2. 学习列表、元组、字典和集合对象的创建。\n",
    "3. 学习列表、元组、字典和集合函数的使用。\n",
    "4. 学习time、 datetime、 random库的使用。\n",
    "\n",
    "+ 实验环境：Python3.11 + Anaconda +Jupyter Notebook"
   ]
  },
  {
   "cell_type": "markdown",
   "id": "08cb02ed",
   "metadata": {},
   "source": [
    "## 二、实验内容"
   ]
  },
  {
   "cell_type": "markdown",
   "id": "c3a0d5df",
   "metadata": {},
   "source": [
    "### 2 列表的使用:假设有一个列表 ['C', 80, 'Java' , 80, 'Python' , 85]，分别进行下面的操作："
   ]
  },
  {
   "cell_type": "code",
   "execution_count": null,
   "id": "72a6a77a",
   "metadata": {
    "ExecuteTime": {
     "end_time": "2024-10-09T11:32:40.988059Z",
     "start_time": "2024-10-09T11:32:40.984253Z"
    }
   },
   "outputs": [],
   "source": [
    "lst = [\"C\", 80, \"Java\", 80, \"Python\", 85]"
   ]
  },
  {
   "cell_type": "code",
   "execution_count": null,
   "id": "2546b3fa",
   "metadata": {
    "ExecuteTime": {
     "end_time": "2024-10-09T11:32:42.017768Z",
     "start_time": "2024-10-09T11:32:42.014952Z"
    }
   },
   "outputs": [],
   "source": [
    "# (1)取第2个元素\n",
    "lst[1]\n",
    "lst"
   ]
  },
  {
   "cell_type": "code",
   "execution_count": null,
   "id": "6f874496",
   "metadata": {},
   "outputs": [],
   "source": [
    "# (2)计算列表的长度\n",
    "len(lst)\n",
    "lst"
   ]
  },
  {
   "cell_type": "code",
   "execution_count": null,
   "id": "2466f682",
   "metadata": {},
   "outputs": [],
   "source": [
    "# (3)统计值为80的元素个数\n",
    "lst.count(80)\n",
    "lst"
   ]
  },
  {
   "cell_type": "code",
   "execution_count": null,
   "id": "adb8c50b",
   "metadata": {},
   "outputs": [],
   "source": [
    "# (4)修改第3个元素的值为85\n",
    "lst[2] = 85\n",
    "lst"
   ]
  },
  {
   "cell_type": "code",
   "execution_count": null,
   "id": "87a242e4",
   "metadata": {},
   "outputs": [],
   "source": [
    "# (5)在第1个位置插入’C++’\n",
    "lst.insert(0, \"C++\")\n",
    "lst"
   ]
  },
  {
   "cell_type": "code",
   "execution_count": null,
   "id": "8080e122",
   "metadata": {},
   "outputs": [],
   "source": [
    "# (6) 删除（5）中插入的元素\n",
    "del lst[0]\n",
    "lst"
   ]
  },
  {
   "cell_type": "code",
   "execution_count": null,
   "id": "d94fe19a",
   "metadata": {},
   "outputs": [],
   "source": [
    "# (7)在列表后面添加’C++’和90两个元素\n",
    "lst.append(\"C++\")\n",
    "lst.append(90)\n",
    "lst"
   ]
  },
  {
   "cell_type": "code",
   "execution_count": null,
   "id": "82ac0758",
   "metadata": {},
   "outputs": [],
   "source": [
    "# (8)颠倒列表元素的顺序\n",
    "lst.reverse()\n",
    "lst"
   ]
  },
  {
   "cell_type": "markdown",
   "id": "d7844eac",
   "metadata": {},
   "source": [
    "### 3．列表切片练习。"
   ]
  },
  {
   "cell_type": "code",
   "execution_count": null,
   "id": "deb0d52b",
   "metadata": {},
   "outputs": [],
   "source": [
    "lst = [1, 2, 3, 4, 5, 6, 7, 8, 9]  "
   ]
  },
  {
   "cell_type": "code",
   "execution_count": null,
   "id": "428fec98",
   "metadata": {},
   "outputs": [],
   "source": [
    "# (1)取前3个元素\n",
    "lst[:3]      "
   ]
  },
  {
   "cell_type": "code",
   "execution_count": null,
   "id": "5e6144a3",
   "metadata": {},
   "outputs": [],
   "source": [
    "# (2)从索引2开始，连续取3个元素\n",
    "lst[1:4]"
   ]
  },
  {
   "cell_type": "code",
   "execution_count": null,
   "id": "dbb44e29",
   "metadata": {},
   "outputs": [],
   "source": [
    "# (3)取索引为奇数的元素\n",
    "lst[::2]"
   ]
  },
  {
   "cell_type": "code",
   "execution_count": null,
   "id": "7e9995f5",
   "metadata": {},
   "outputs": [],
   "source": [
    "# (4)取最右侧的4个元素\n",
    "lst[:-5:-1]         "
   ]
  },
  {
   "cell_type": "markdown",
   "id": "16c88f07",
   "metadata": {},
   "source": [
    "### 4．统计列表`lst = [12,2,16,30,28,10,16,20,6,18]`中元素的个数，找出最大值和最小值，计算平均值，并将lst列表按从大到小排序输出。"
   ]
  },
  {
   "cell_type": "code",
   "execution_count": null,
   "id": "c7dfb1a1",
   "metadata": {},
   "outputs": [],
   "source": [
    "lst = [12, 2, 16, 30, 28, 10, 16, 20, 6, 18]"
   ]
  },
  {
   "cell_type": "code",
   "execution_count": null,
   "id": "27759ce9",
   "metadata": {},
   "outputs": [],
   "source": [
    "# 元素个数\n",
    "len(lst)"
   ]
  },
  {
   "cell_type": "code",
   "execution_count": null,
   "id": "6c291f9f",
   "metadata": {},
   "outputs": [],
   "source": [
    "# 最大值\n",
    "max(lst)"
   ]
  },
  {
   "cell_type": "code",
   "execution_count": null,
   "id": "f4c98d46",
   "metadata": {},
   "outputs": [],
   "source": [
    "# 最小值\n",
    "min(lst)"
   ]
  },
  {
   "cell_type": "code",
   "execution_count": null,
   "id": "169edbd7",
   "metadata": {},
   "outputs": [],
   "source": [
    "# 计算平均值\n",
    "sum(lst) / len(lst)"
   ]
  },
  {
   "cell_type": "code",
   "execution_count": null,
   "id": "44a221fd",
   "metadata": {},
   "outputs": [],
   "source": [
    "# 列表按从大到小排序输出\n",
    "lst.sort()\n",
    "lst"
   ]
  },
  {
   "cell_type": "markdown",
   "id": "8b99b339",
   "metadata": {},
   "source": [
    "### 5．字典练习。"
   ]
  },
  {
   "cell_type": "markdown",
   "id": "4eb58258",
   "metadata": {},
   "source": [
    "（1）字典保存了如下用户姓名和对应密码，输出所有用户姓名，并找出某个用户的密码。"
   ]
  },
  {
   "cell_type": "code",
   "execution_count": null,
   "id": "22015f73",
   "metadata": {},
   "outputs": [],
   "source": [
    "password = {\"张三\": \"123456\", \"李四\": \"abcdef\", \"王五\": \"123abc\", \"刘六\": \"aaa111\"}"
   ]
  },
  {
   "cell_type": "code",
   "execution_count": null,
   "id": "d08ae84e",
   "metadata": {},
   "outputs": [],
   "source": [
    "# 输出所有用户姓名\n",
    "password.keys()"
   ]
  },
  {
   "cell_type": "code",
   "execution_count": null,
   "id": "92fe41e5",
   "metadata": {},
   "outputs": [],
   "source": [
    "# 输出\"李四\"的密码\n",
    "password[\"李四\"]"
   ]
  },
  {
   "cell_type": "code",
   "execution_count": null,
   "id": "1fe643cb",
   "metadata": {},
   "outputs": [],
   "source": [
    "# 遍历输出所有的键值对\n",
    "keys_lst = list(password.keys())\n",
    "for keys in keys_lst:\n",
    "    print(f\"{keys}, {password[keys]}\")"
   ]
  },
  {
   "cell_type": "markdown",
   "id": "65239cc6",
   "metadata": {},
   "source": [
    "（2）用字典存储游戏角色的属性，用随机值修改属性。（见教材第12章实验三，5（2））"
   ]
  },
  {
   "cell_type": "code",
   "execution_count": null,
   "id": "3bfe0af3",
   "metadata": {},
   "outputs": [],
   "source": [
    "import random\n",
    "\n",
    "role = {\"A\": 10, \"B\": 20, \"force\": 100}\n",
    "for _ in range(3):\n",
    "    for k in role:\n",
    "        role[k] += random.randint(-2, 2)\n",
    "role"
   ]
  },
  {
   "cell_type": "markdown",
   "id": "688b7fbb",
   "metadata": {},
   "source": [
    "### 6．如下元组保存了学生姓名和对应成绩，找出成绩最高分学生的姓名。"
   ]
  },
  {
   "cell_type": "code",
   "execution_count": null,
   "id": "c846812b",
   "metadata": {},
   "outputs": [],
   "source": [
    "student = (\"张三\", \"李四\", \"王五\", \"刘六\")\n",
    "score = (75, 62, 93, 81)\n",
    "\n",
    "# 找出成绩最高分学生的姓名\n",
    "score_dict = dict(zip(student, score))\n",
    "score_dict"
   ]
  },
  {
   "cell_type": "markdown",
   "id": "68fd677c",
   "metadata": {},
   "source": [
    "### 7．输入一串字符，统计单词个数（假设所有单词以空格分隔）。"
   ]
  },
  {
   "cell_type": "code",
   "execution_count": null,
   "id": "de79104d",
   "metadata": {},
   "outputs": [],
   "source": [
    "s = input(\"输入一串字符：\")  # this is a Python  program\n",
    "\n",
    "# 待补充\n",
    "\n",
    "s_splited = s.split()\n",
    "len(s_splited)"
   ]
  },
  {
   "cell_type": "markdown",
   "id": "326b7a43",
   "metadata": {},
   "source": [
    "### 8．合并列表lst1 = [3,7,44,78,6]和lst2 = [35,8,59,3,47,6]中的元素，并将重复元素去除。"
   ]
  },
  {
   "cell_type": "code",
   "execution_count": null,
   "id": "7243aab5",
   "metadata": {
    "ExecuteTime": {
     "end_time": "2024-10-09T12:35:32.490668Z",
     "start_time": "2024-10-09T12:35:32.486731Z"
    }
   },
   "outputs": [],
   "source": [
    "lst1 = [3, 7, 44, 78, 6]\n",
    "lst2 = [35, 8, 59, 3, 47, 6]\n",
    "\n",
    "# 合并列表，并将重复元素去除（用集合做）\n",
    "\n",
    "sumerized = set(lst1.copy() + lst2.copy())\n",
    "sumerized"
   ]
  },
  {
   "cell_type": "code",
   "execution_count": null,
   "id": "bfcb7f24",
   "metadata": {
    "ExecuteTime": {
     "end_time": "2024-10-09T12:38:30.467452Z",
     "start_time": "2024-10-09T12:38:30.464915Z"
    }
   },
   "outputs": [],
   "source": [
    "# 由集合得到列表\n",
    "sumerized = list(sumerized)\n",
    "isinstance(sumerized, list)"
   ]
  },
  {
   "cell_type": "code",
   "execution_count": null,
   "id": "ef97c138",
   "metadata": {
    "ExecuteTime": {
     "end_time": "2024-10-09T12:38:59.153907Z",
     "start_time": "2024-10-09T12:38:59.151500Z"
    }
   },
   "outputs": [],
   "source": [
    "# 上述步骤也可以合并为一条语句完成\n",
    "sumerized = list(set(lst1.copy() + lst2.copy()))"
   ]
  },
  {
   "cell_type": "markdown",
   "id": "64f3dfe4",
   "metadata": {},
   "source": [
    "### 9．time库练习。  \n",
    "\n",
    "(1)测试将含有1百万个数的列表中的数均变为原来的2倍所需的耗时，要求测试5次取平均耗时。"
   ]
  },
  {
   "cell_type": "code",
   "execution_count": null,
   "id": "c32773e9",
   "metadata": {},
   "outputs": [],
   "source": [
    "import time\n",
    "\n",
    "lst = list(range(1000000))\n",
    "# 待补充\n",
    "result = 0\n",
    "for x in range(5):\n",
    "    start_time = time.perf_counter()\n",
    "    for i in range(len(lst)):\n",
    "        lst[i] = 2 * lst[i]\n",
    "    stop_time = time.perf_counter()\n",
    "    ttl_time = stop_time - start_time\n",
    "    result += ttl_time\n",
    "result /= 5\n",
    "print(f\"{ttl_time}s\")"
   ]
  },
  {
   "cell_type": "markdown",
   "id": "1cc36669",
   "metadata": {},
   "source": [
    "(2)今天是本年的第几天？"
   ]
  },
  {
   "cell_type": "code",
   "execution_count": null,
   "id": "bd83ab55",
   "metadata": {},
   "outputs": [],
   "source": [
    "import datetime\n",
    "today = datetime.date.today()\n",
    "day_of_year = today.timetuple().tm_yday\n",
    "print(f\"今天是本年的第{day_of_year}天\")"
   ]
  },
  {
   "cell_type": "markdown",
   "id": "4fdad72c",
   "metadata": {},
   "source": [
    "(3)利用time.sleep模拟程序运行一段时间。"
   ]
  },
  {
   "cell_type": "code",
   "execution_count": null,
   "id": "eca85dc1",
   "metadata": {},
   "outputs": [
    {
     "name": "stdout",
     "output_type": "stream",
     "text": [
      "⠼ 正在处理 44%"
     ]
    }
   ],
   "source": [
    "import time\n",
    "spinner = '⠋⠙⠹⠸⠼⠴⠦⠧⠇⠏'\n",
    "print(\"运行中，请稍后\")\n",
    "for i in range(101):\n",
    "    spin_char = spinner[i % len(spinner)]\n",
    "    print(f\"\\r{spin_char} 正在处理 {i}%\", end='', flush=True)\n",
    "    time.sleep(0.1)\n",
    "print(\"\\n完成！\")"
   ]
  },
  {
   "cell_type": "markdown",
   "id": "c45a97d8",
   "metadata": {},
   "source": [
    "### 10．random随机库练习。  \n",
    "\n",
    "(1) 设定随机种子为7"
   ]
  },
  {
   "cell_type": "code",
   "execution_count": null,
   "id": "ec933ca1",
   "metadata": {},
   "outputs": [],
   "source": [
    "import random\n",
    "# 设定固定的种子，后续产生同样的随机数序列\n",
    "random.seed(7)"
   ]
  },
  {
   "cell_type": "markdown",
   "id": "1f31c705",
   "metadata": {},
   "source": [
    "(2)产生含有[1,30]之间的80个随机整数的列表lst"
   ]
  },
  {
   "cell_type": "code",
   "execution_count": null,
   "id": "c8f859af",
   "metadata": {},
   "outputs": [],
   "source": [
    "lst = [random.randint(1,30) for i in range(80)]\n",
    "lst"
   ]
  },
  {
   "cell_type": "markdown",
   "id": "f5f46531",
   "metadata": {},
   "source": [
    "(3)[1,30]之间哪些数没有出现在lst中"
   ]
  },
  {
   "cell_type": "code",
   "execution_count": null,
   "id": "5a27a61d",
   "metadata": {},
   "outputs": [],
   "source": [
    "current_nums = set(lst)\n",
    "missing_nums = set(range(30)) - current_nums\n",
    "missing_nums"
   ]
  },
  {
   "cell_type": "markdown",
   "id": "03f2e83f",
   "metadata": {},
   "source": [
    "(4)产生含有1-54的整数有序列表card，然后分别用random.choice和random.sample从中随机抽取5个数。"
   ]
  },
  {
   "cell_type": "code",
   "execution_count": null,
   "id": "27fe0355",
   "metadata": {},
   "outputs": [],
   "source": [
    "# 用random.choice 抽取\n",
    "card = list(range(1, 55))\n",
    "for i in range(5):\n",
    "    print(random.choice(card))"
   ]
  },
  {
   "cell_type": "code",
   "execution_count": null,
   "id": "6275554c",
   "metadata": {},
   "outputs": [],
   "source": [
    "# 用 random.sample 抽取\n",
    "card = list(range(1, 55))\n",
    "random.sample(card, 5)"
   ]
  },
  {
   "cell_type": "markdown",
   "id": "0465751c",
   "metadata": {},
   "source": [
    "(5)对上面的有序列表card进行乱序( random.shuffle)"
   ]
  },
  {
   "cell_type": "code",
   "execution_count": null,
   "id": "36f7a5c5",
   "metadata": {},
   "outputs": [],
   "source": [
    "random.shuffle(card)\n",
    "card"
   ]
  },
  {
   "cell_type": "markdown",
   "id": "1f5ff7df",
   "metadata": {},
   "source": [
    "## 三、实验总结(由学生填写)\n",
    "写出实验结论，讨论实验中所遇的问题及可能的解释和处理方法，也可对实验的改进提出建议，简述自己做实验的心得体会等。\n"
   ]
  },
  {
   "cell_type": "code",
   "execution_count": null,
   "id": "1d57616f",
   "metadata": {},
   "outputs": [],
   "source": []
  },
  {
   "cell_type": "markdown",
   "id": "23969e01",
   "metadata": {},
   "source": [
    "## 四、教师评语(由教师填写)\n",
    "+ A、完成所有规定的实验内容，实验步骤正确，结果正确。实验总结良好，言之有物。\n",
    "+ B、完成大部分规定的实验内容，实验步骤正确，结果基本正确。实验总结基本可行。\n",
    "+ C、完成大部分规定的实验内容，实验步骤正确，结果基本正确，但无实验总结。\n",
    "+ D、只完成一部分规定的实验内容，仅部分结果正确，无实验总结。\n",
    "+ E、大部分规定的实验内容均未完成。\n"
   ]
  },
  {
   "cell_type": "markdown",
   "id": "33cb8482",
   "metadata": {},
   "source": [
    "实验报告等级: <font size=5>A </font> <br/>\n",
    "教师：XXX"
   ]
  },
  {
   "cell_type": "code",
   "execution_count": null,
   "id": "d7b30028",
   "metadata": {},
   "outputs": [],
   "source": []
  }
 ],
 "metadata": {
  "kernelspec": {
   "display_name": ".venv",
   "language": "python",
   "name": "python3"
  },
  "language_info": {
   "codemirror_mode": {
    "name": "ipython",
    "version": 3
   },
   "file_extension": ".py",
   "mimetype": "text/x-python",
   "name": "python",
   "nbconvert_exporter": "python",
   "pygments_lexer": "ipython3",
   "version": "3.13.5"
  },
  "toc": {
   "base_numbering": 1,
   "nav_menu": {},
   "number_sections": false,
   "sideBar": true,
   "skip_h1_title": false,
   "title_cell": "Table of Contents",
   "title_sidebar": "Contents",
   "toc_cell": false,
   "toc_position": {
    "height": "calc(100% - 180px)",
    "left": "10px",
    "top": "150px",
    "width": "273.163px"
   },
   "toc_section_display": true,
   "toc_window_display": false
  },
  "varInspector": {
   "cols": {
    "lenName": 16,
    "lenType": 16,
    "lenVar": 40
   },
   "kernels_config": {
    "python": {
     "delete_cmd_postfix": "",
     "delete_cmd_prefix": "del ",
     "library": "var_list.py",
     "varRefreshCmd": "print(var_dic_list())"
    },
    "r": {
     "delete_cmd_postfix": ") ",
     "delete_cmd_prefix": "rm(",
     "library": "var_list.r",
     "varRefreshCmd": "cat(var_dic_list()) "
    }
   },
   "types_to_exclude": [
    "module",
    "function",
    "builtin_function_or_method",
    "instance",
    "_Feature"
   ],
   "window_display": false
  }
 },
 "nbformat": 4,
 "nbformat_minor": 5
}
